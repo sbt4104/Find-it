{
 "cells": [
  {
   "cell_type": "code",
   "execution_count": 17,
   "metadata": {},
   "outputs": [
    {
     "name": "stdout",
     "output_type": "stream",
     "text": [
      "Andrew Ng, Instructor | Coursera  ListExploreFor EnterpriseJoin for FreeLog InLoupe CopyExploreArts and HumanitiesBusinessComputer ScienceData ScienceInformation TechnologyHealthMath and LogicPersonal DevelopmentPhysical Science and EngineeringSocial SciencesLanguage LearningDegreesCertificatesExplore all of CourseraLoupe CopyLoupe CopyBrowseSearchFor EnterpriseLog InJoin for FreeAndrew NgCEO/Founder Landing AI; Co-founder, Coursera; Adjunct Professor, Stanford University; formerly Chief Scientist,Baidu and founding lead of Google BrainStanford Universitydeeplearning.aihttps://www.andrewng.org/andrew.ng.96AndrewYNgandrewyng/BioAndrew Ng is Co-founder of Coursera, an and Adjunct Professor of Computer Science at Stanford University.  His machine learning course is the MOOC that had led to the founding of Coursera! In 2011, he led the development of Stanford Universityâs main MOOC (Massive Open Online Courses) platform and also taught an online Machine Learning class to over 100,000 students, thus helping launch the MOOC movement and also leading to the founding of Coursera.Ng also works on machine learning, with an emphasis on deep learning. He had founded and led the âGoogle Brainâ project, which developed massive-scale deep learning algorithms. This resulted in the famous âGoogle catâ result, in which a massive neural network with 1 billion parameters learned from unlabeled YouTube videos to detect cats. Until recently, he led Baidu's ~1300 person AI Group, which developed technologies in deep learning, speech, computer vision, NLP, and other areas.           CoursesMachine LearningIA para todosImproving Deep Neural Networks: Hyperparameter tuning, Regularization and OptimizationAI For EveryoneØ§ÙØ´Ø¨ÙØ§Øª Ø§ÙØ¹ØµØ¨ÙØ© ÙØ§ÙØªØ¹ÙÙ",
      " Ø§ÙØ¹Ù",
      "ÙÙStructuring Machine Learning ProjectsConvolutional Neural NetworksSequence ModelsNeural Networks and Deep Learning                CourseraCoursera provides universal access to the worldâs best education,           partnering with top universities and organizations to offer courses online.Â© 2019 Coursera Inc. All rights reserved.CourseraAboutLeadershipCareersCatalogCertificatesMasterTrackâ¢ CertificatesDegreesFor EnterpriseFor GovernmentCommunityLearnersPartnersDevelopersBeta TestersTranslatorsConnectBlogFacebookLinkedInTwitterInstagramYouTubeTech BlogMoreTermsPrivacyHelpAccessibilityPressContactDirectoryAffiliates \n"
     ]
    }
   ],
   "source": [
    "import spacy\n",
    "from spacy import displacy\n",
    "from collections import Counter\n",
    "import en_core_web_sm\n",
    "nlp = spacy.load('en')\n",
    "#ad()\n",
    "\n",
    "\n",
    "from bs4 import BeautifulSoup\n",
    "import requests\n",
    "import re\n",
    "def url_to_string(url):\n",
    "    res = requests.get(url)\n",
    "    html = res.text\n",
    "    soup = BeautifulSoup(html, 'html5lib')\n",
    "    for script in soup([\"script\", \"style\", 'aside']):\n",
    "        script.extract()\n",
    "    return \" \".join(re.split(r'[\\n\\t]+', soup.get_text()))\n",
    "ny_bb = url_to_string('https://www.coursera.org/instructor/andrewng')\n",
    "article = nlp(ny_bb)\n",
    "len(article.ents)\n",
    "print(article)\n"
   ]
  },
  {
   "cell_type": "code",
   "execution_count": 2,
   "metadata": {},
   "outputs": [
    {
     "name": "stdout",
     "output_type": "stream",
     "text": [
      "[('European', 'NORP'), ('Google', 'ORG'), ('$5.1 billion', 'MONEY'), ('Wednesday', 'DATE')]\n"
     ]
    }
   ],
   "source": [
    "doc = nlp('European authorities fined Google a record $5.1 billion on Wednesday for abusing its power in the mobile phone market and ordered the company to alter its practices')\n",
    "print([(X.text, X.label_) for X in doc.ents])\n"
   ]
  },
  {
   "cell_type": "code",
   "execution_count": 3,
   "metadata": {},
   "outputs": [
    {
     "data": {
      "text/plain": [
       "Counter({'PERSON': 10,\n",
       "         'ORG': 26,\n",
       "         'PRODUCT': 1,\n",
       "         'GPE': 6,\n",
       "         'DATE': 2,\n",
       "         'CARDINAL': 4,\n",
       "         'WORK_OF_ART': 1})"
      ]
     },
     "execution_count": 3,
     "metadata": {},
     "output_type": "execute_result"
    }
   ],
   "source": [
    "labels = [x.label_ for x in article.ents]\n",
    "Counter(labels)"
   ]
  },
  {
   "cell_type": "code",
   "execution_count": 14,
   "metadata": {},
   "outputs": [],
   "source": [
    "f=open(\"untitled.txt\", \"r\")\n",
    "article2 = nlp(f.read())\n",
    "#print(f)"
   ]
  },
  {
   "cell_type": "code",
   "execution_count": 15,
   "metadata": {},
   "outputs": [
    {
     "data": {
      "text/plain": [
       "I am shubham Thorat and i love coding."
      ]
     },
     "execution_count": 15,
     "metadata": {},
     "output_type": "execute_result"
    }
   ],
   "source": [
    "article2"
   ]
  },
  {
   "cell_type": "code",
   "execution_count": 16,
   "metadata": {},
   "outputs": [
    {
     "name": "stdout",
     "output_type": "stream",
     "text": [
      "[('Thorat', 'GPE')]\n"
     ]
    }
   ],
   "source": [
    "print([(X.text, X.label_) for X in article2.ents])"
   ]
  },
  {
   "cell_type": "code",
   "execution_count": null,
   "metadata": {},
   "outputs": [],
   "source": []
  }
 ],
 "metadata": {
  "kernelspec": {
   "display_name": "Python 3",
   "language": "python",
   "name": "python3"
  },
  "language_info": {
   "codemirror_mode": {
    "name": "ipython",
    "version": 3
   },
   "file_extension": ".py",
   "mimetype": "text/x-python",
   "name": "python",
   "nbconvert_exporter": "python",
   "pygments_lexer": "ipython3",
   "version": "3.6.8"
  }
 },
 "nbformat": 4,
 "nbformat_minor": 2
}
